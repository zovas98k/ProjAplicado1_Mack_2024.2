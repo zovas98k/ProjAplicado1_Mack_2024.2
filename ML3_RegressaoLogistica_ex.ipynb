{
  "nbformat": 4,
  "nbformat_minor": 0,
  "metadata": {
    "anaconda-cloud": {},
    "kernelspec": {
      "display_name": "Python 3",
      "language": "python",
      "name": "python3"
    },
    "language_info": {
      "codemirror_mode": {
        "name": "ipython",
        "version": 3
      },
      "file_extension": ".py",
      "mimetype": "text/x-python",
      "name": "python",
      "nbconvert_exporter": "python",
      "pygments_lexer": "ipython3",
      "version": "3.7.4"
    },
    "colab": {
      "name": "ML3_RegressaoLogistica_ex.ipynb",
      "provenance": [],
      "include_colab_link": true
    }
  },
  "cells": [
    {
      "cell_type": "markdown",
      "metadata": {
        "id": "view-in-github",
        "colab_type": "text"
      },
      "source": [
        "<a href=\"https://colab.research.google.com/github/zovas98k/ProjAplicado1_Mack_2024.2/blob/main/ML3_RegressaoLogistica_ex.ipynb\" target=\"_parent\"><img src=\"https://colab.research.google.com/assets/colab-badge.svg\" alt=\"Open In Colab\"/></a>"
      ]
    },
    {
      "cell_type": "markdown",
      "metadata": {
        "id": "80CF3Eq9EXDW"
      },
      "source": [
        "<head>\n",
        "  <meta name=\"author\" content=\"Rogério de Oliveira\">\n",
        "  <meta institution=\"author\" content=\"Universidade Presbiteriana Mackenzie\">\n",
        "</head>\n",
        "\n",
        "<img src=\"http://meusite.mackenzie.br/rogerio/mackenzie_logo/UPM.2_horizontal_vermelho.jpg\" width=300, align=\"right\">\n",
        "<!-- <h1 align=left><font size = 6, style=\"color:rgb(200,0,0)\"> optional title </font></h1> -->\n"
      ]
    },
    {
      "cell_type": "markdown",
      "metadata": {
        "id": "g1Hap25KEXDX"
      },
      "source": [
        "# **3. Classificação: Regressão Logística**\n",
        "---\n",
        "\n",
        "Após fazer os exercícios deste laboratório responda ao **questionário correspondente da aula no Moodle**.\n",
        "\n"
      ]
    },
    {
      "cell_type": "markdown",
      "source": [
        "## Relembrando aqui...\n",
        "\n",
        "Abaixo você pode rever o esquema geral de aplicação do modelo logístico."
      ],
      "metadata": {
        "id": "9898hEksOPD_"
      }
    },
    {
      "cell_type": "code",
      "metadata": {
        "id": "9_7mcJXbFnyU",
        "outputId": "e4c35b92-de04-4132-e94e-5fce9dfb330f",
        "colab": {
          "base_uri": "https://localhost:8080/",
          "height": 425
        }
      },
      "source": [
        "%%script false\n",
        "from sklearn.model_selection import train_test_split\n",
        "from sklearn.linear_model import LogisticRegression\n",
        "\n",
        "# separando variável dependente e independentes\n",
        "x = df.drop('y',axis=1)\n",
        "y = df['y']\n",
        "\n",
        "# separando conjuntos de treinamento e teste\n",
        "X_train, X_test, y_train, y_test = train_test_split(x, y, test_size=0.3, stratify=y, random_state=1)\n",
        "\n",
        "# selecionando o modelo\n",
        "clf = LogisticRegression()\n",
        "\n",
        "# treinando o modelo\n",
        "clf.fit(X_train,y_train)\n",
        "\n",
        "# utilizando o modelo\n",
        "y_pred = clf.predict(X_test)\n",
        "\n",
        "# verificando o resultado\n",
        "print( clf.score(X_test,y_test) )"
      ],
      "execution_count": 12,
      "outputs": [
        {
          "output_type": "error",
          "ename": "CalledProcessError",
          "evalue": "Command 'b\"from sklearn.model_selection import train_test_split \\nfrom sklearn.linear_model import LogisticRegression \\n\\n# separando vari\\xc3\\xa1vel dependente e independentes  \\nx = df.drop('y',axis=1)\\ny = df['y']\\n\\n# separando conjuntos de treinamento e teste\\nX_train, X_test, y_train, y_test = train_test_split(x, y, test_size=0.3, stratify=y, random_state=1)\\n\\n# selecionando o modelo\\nclf = LogisticRegression()\\n\\n# treinando o modelo\\nclf.fit(X_train,y_train)\\n\\n# utilizando o modelo\\ny_pred = clf.predict(X_test)\\n\\n# verificando o resultado \\nprint( clf.score(X_test,y_test) )\\n\"' returned non-zero exit status 1.",
          "traceback": [
            "\u001b[0;31m---------------------------------------------------------------------------\u001b[0m",
            "\u001b[0;31mCalledProcessError\u001b[0m                        Traceback (most recent call last)",
            "\u001b[0;32m<ipython-input-12-3fb5754a8dd9>\u001b[0m in \u001b[0;36m<cell line: 1>\u001b[0;34m()\u001b[0m\n\u001b[0;32m----> 1\u001b[0;31m \u001b[0mget_ipython\u001b[0m\u001b[0;34m(\u001b[0m\u001b[0;34m)\u001b[0m\u001b[0;34m.\u001b[0m\u001b[0mrun_cell_magic\u001b[0m\u001b[0;34m(\u001b[0m\u001b[0;34m'script'\u001b[0m\u001b[0;34m,\u001b[0m \u001b[0;34m'false'\u001b[0m\u001b[0;34m,\u001b[0m \u001b[0;34m\"from sklearn.model_selection import train_test_split \\nfrom sklearn.linear_model import LogisticRegression \\n\\n# separando variável dependente e independentes  \\nx = df.drop('y',axis=1)\\ny = df['y']\\n\\n# separando conjuntos de treinamento e teste\\nX_train, X_test, y_train, y_test = train_test_split(x, y, test_size=0.3, stratify=y, random_state=1)\\n\\n# selecionando o modelo\\nclf = LogisticRegression()\\n\\n# treinando o modelo\\nclf.fit(X_train,y_train)\\n\\n# utilizando o modelo\\ny_pred = clf.predict(X_test)\\n\\n# verificando o resultado \\nprint( clf.score(X_test,y_test) )\\n\"\u001b[0m\u001b[0;34m)\u001b[0m\u001b[0;34m\u001b[0m\u001b[0;34m\u001b[0m\u001b[0m\n\u001b[0m",
            "\u001b[0;32m/usr/local/lib/python3.10/dist-packages/google/colab/_shell.py\u001b[0m in \u001b[0;36mrun_cell_magic\u001b[0;34m(self, magic_name, line, cell)\u001b[0m\n\u001b[1;32m    332\u001b[0m     \u001b[0;32mif\u001b[0m \u001b[0mline\u001b[0m \u001b[0;32mand\u001b[0m \u001b[0;32mnot\u001b[0m \u001b[0mcell\u001b[0m\u001b[0;34m:\u001b[0m\u001b[0;34m\u001b[0m\u001b[0;34m\u001b[0m\u001b[0m\n\u001b[1;32m    333\u001b[0m       \u001b[0mcell\u001b[0m \u001b[0;34m=\u001b[0m \u001b[0;34m' '\u001b[0m\u001b[0;34m\u001b[0m\u001b[0;34m\u001b[0m\u001b[0m\n\u001b[0;32m--> 334\u001b[0;31m     \u001b[0;32mreturn\u001b[0m \u001b[0msuper\u001b[0m\u001b[0;34m(\u001b[0m\u001b[0;34m)\u001b[0m\u001b[0;34m.\u001b[0m\u001b[0mrun_cell_magic\u001b[0m\u001b[0;34m(\u001b[0m\u001b[0mmagic_name\u001b[0m\u001b[0;34m,\u001b[0m \u001b[0mline\u001b[0m\u001b[0;34m,\u001b[0m \u001b[0mcell\u001b[0m\u001b[0;34m)\u001b[0m\u001b[0;34m\u001b[0m\u001b[0;34m\u001b[0m\u001b[0m\n\u001b[0m\u001b[1;32m    335\u001b[0m \u001b[0;34m\u001b[0m\u001b[0m\n\u001b[1;32m    336\u001b[0m \u001b[0;34m\u001b[0m\u001b[0m\n",
            "\u001b[0;32m/usr/local/lib/python3.10/dist-packages/IPython/core/interactiveshell.py\u001b[0m in \u001b[0;36mrun_cell_magic\u001b[0;34m(self, magic_name, line, cell)\u001b[0m\n\u001b[1;32m   2471\u001b[0m             \u001b[0;32mwith\u001b[0m \u001b[0mself\u001b[0m\u001b[0;34m.\u001b[0m\u001b[0mbuiltin_trap\u001b[0m\u001b[0;34m:\u001b[0m\u001b[0;34m\u001b[0m\u001b[0;34m\u001b[0m\u001b[0m\n\u001b[1;32m   2472\u001b[0m                 \u001b[0margs\u001b[0m \u001b[0;34m=\u001b[0m \u001b[0;34m(\u001b[0m\u001b[0mmagic_arg_s\u001b[0m\u001b[0;34m,\u001b[0m \u001b[0mcell\u001b[0m\u001b[0;34m)\u001b[0m\u001b[0;34m\u001b[0m\u001b[0;34m\u001b[0m\u001b[0m\n\u001b[0;32m-> 2473\u001b[0;31m                 \u001b[0mresult\u001b[0m \u001b[0;34m=\u001b[0m \u001b[0mfn\u001b[0m\u001b[0;34m(\u001b[0m\u001b[0;34m*\u001b[0m\u001b[0margs\u001b[0m\u001b[0;34m,\u001b[0m \u001b[0;34m**\u001b[0m\u001b[0mkwargs\u001b[0m\u001b[0;34m)\u001b[0m\u001b[0;34m\u001b[0m\u001b[0;34m\u001b[0m\u001b[0m\n\u001b[0m\u001b[1;32m   2474\u001b[0m             \u001b[0;32mreturn\u001b[0m \u001b[0mresult\u001b[0m\u001b[0;34m\u001b[0m\u001b[0;34m\u001b[0m\u001b[0m\n\u001b[1;32m   2475\u001b[0m \u001b[0;34m\u001b[0m\u001b[0m\n",
            "\u001b[0;32m<decorator-gen-103>\u001b[0m in \u001b[0;36mshebang\u001b[0;34m(self, line, cell)\u001b[0m\n",
            "\u001b[0;32m/usr/local/lib/python3.10/dist-packages/IPython/core/magic.py\u001b[0m in \u001b[0;36m<lambda>\u001b[0;34m(f, *a, **k)\u001b[0m\n\u001b[1;32m    185\u001b[0m     \u001b[0;31m# but it's overkill for just that one bit of state.\u001b[0m\u001b[0;34m\u001b[0m\u001b[0;34m\u001b[0m\u001b[0m\n\u001b[1;32m    186\u001b[0m     \u001b[0;32mdef\u001b[0m \u001b[0mmagic_deco\u001b[0m\u001b[0;34m(\u001b[0m\u001b[0marg\u001b[0m\u001b[0;34m)\u001b[0m\u001b[0;34m:\u001b[0m\u001b[0;34m\u001b[0m\u001b[0;34m\u001b[0m\u001b[0m\n\u001b[0;32m--> 187\u001b[0;31m         \u001b[0mcall\u001b[0m \u001b[0;34m=\u001b[0m \u001b[0;32mlambda\u001b[0m \u001b[0mf\u001b[0m\u001b[0;34m,\u001b[0m \u001b[0;34m*\u001b[0m\u001b[0ma\u001b[0m\u001b[0;34m,\u001b[0m \u001b[0;34m**\u001b[0m\u001b[0mk\u001b[0m\u001b[0;34m:\u001b[0m \u001b[0mf\u001b[0m\u001b[0;34m(\u001b[0m\u001b[0;34m*\u001b[0m\u001b[0ma\u001b[0m\u001b[0;34m,\u001b[0m \u001b[0;34m**\u001b[0m\u001b[0mk\u001b[0m\u001b[0;34m)\u001b[0m\u001b[0;34m\u001b[0m\u001b[0;34m\u001b[0m\u001b[0m\n\u001b[0m\u001b[1;32m    188\u001b[0m \u001b[0;34m\u001b[0m\u001b[0m\n\u001b[1;32m    189\u001b[0m         \u001b[0;32mif\u001b[0m \u001b[0mcallable\u001b[0m\u001b[0;34m(\u001b[0m\u001b[0marg\u001b[0m\u001b[0;34m)\u001b[0m\u001b[0;34m:\u001b[0m\u001b[0;34m\u001b[0m\u001b[0;34m\u001b[0m\u001b[0m\n",
            "\u001b[0;32m/usr/local/lib/python3.10/dist-packages/IPython/core/magics/script.py\u001b[0m in \u001b[0;36mshebang\u001b[0;34m(self, line, cell)\u001b[0m\n\u001b[1;32m    243\u001b[0m             \u001b[0msys\u001b[0m\u001b[0;34m.\u001b[0m\u001b[0mstderr\u001b[0m\u001b[0;34m.\u001b[0m\u001b[0mflush\u001b[0m\u001b[0;34m(\u001b[0m\u001b[0;34m)\u001b[0m\u001b[0;34m\u001b[0m\u001b[0;34m\u001b[0m\u001b[0m\n\u001b[1;32m    244\u001b[0m         \u001b[0;32mif\u001b[0m \u001b[0margs\u001b[0m\u001b[0;34m.\u001b[0m\u001b[0mraise_error\u001b[0m \u001b[0;32mand\u001b[0m \u001b[0mp\u001b[0m\u001b[0;34m.\u001b[0m\u001b[0mreturncode\u001b[0m\u001b[0;34m!=\u001b[0m\u001b[0;36m0\u001b[0m\u001b[0;34m:\u001b[0m\u001b[0;34m\u001b[0m\u001b[0;34m\u001b[0m\u001b[0m\n\u001b[0;32m--> 245\u001b[0;31m             \u001b[0;32mraise\u001b[0m \u001b[0mCalledProcessError\u001b[0m\u001b[0;34m(\u001b[0m\u001b[0mp\u001b[0m\u001b[0;34m.\u001b[0m\u001b[0mreturncode\u001b[0m\u001b[0;34m,\u001b[0m \u001b[0mcell\u001b[0m\u001b[0;34m,\u001b[0m \u001b[0moutput\u001b[0m\u001b[0;34m=\u001b[0m\u001b[0mout\u001b[0m\u001b[0;34m,\u001b[0m \u001b[0mstderr\u001b[0m\u001b[0;34m=\u001b[0m\u001b[0merr\u001b[0m\u001b[0;34m)\u001b[0m\u001b[0;34m\u001b[0m\u001b[0;34m\u001b[0m\u001b[0m\n\u001b[0m\u001b[1;32m    246\u001b[0m \u001b[0;34m\u001b[0m\u001b[0m\n\u001b[1;32m    247\u001b[0m     \u001b[0;32mdef\u001b[0m \u001b[0m_run_script\u001b[0m\u001b[0;34m(\u001b[0m\u001b[0mself\u001b[0m\u001b[0;34m,\u001b[0m \u001b[0mp\u001b[0m\u001b[0;34m,\u001b[0m \u001b[0mcell\u001b[0m\u001b[0;34m,\u001b[0m \u001b[0mto_close\u001b[0m\u001b[0;34m)\u001b[0m\u001b[0;34m:\u001b[0m\u001b[0;34m\u001b[0m\u001b[0;34m\u001b[0m\u001b[0m\n",
            "\u001b[0;31mCalledProcessError\u001b[0m: Command 'b\"from sklearn.model_selection import train_test_split \\nfrom sklearn.linear_model import LogisticRegression \\n\\n# separando vari\\xc3\\xa1vel dependente e independentes  \\nx = df.drop('y',axis=1)\\ny = df['y']\\n\\n# separando conjuntos de treinamento e teste\\nX_train, X_test, y_train, y_test = train_test_split(x, y, test_size=0.3, stratify=y, random_state=1)\\n\\n# selecionando o modelo\\nclf = LogisticRegression()\\n\\n# treinando o modelo\\nclf.fit(X_train,y_train)\\n\\n# utilizando o modelo\\ny_pred = clf.predict(X_test)\\n\\n# verificando o resultado \\nprint( clf.score(X_test,y_test) )\\n\"' returned non-zero exit status 1."
          ]
        }
      ]
    },
    {
      "cell_type": "markdown",
      "metadata": {
        "_uuid": "9dd9e07c590ca22f0c525222f60f0ebff4e092c6",
        "id": "SLTshJXLA4LT"
      },
      "source": [
        "# Caso: **Origem dos veículos**\n",
        "\n",
        "Neste Lab você vai empregar o modelo de Regressão Logística para classificar a origem de veículos a partir de dados de consumo de combustível em veículos (milhas por galão, mpg) e outras informações.\n",
        "\n",
        "Dados (originais): https://archive.ics.uci.edu/ml/datasets/auto+mpg"
      ]
    },
    {
      "cell_type": "markdown",
      "source": [
        "## Seus imports"
      ],
      "metadata": {
        "id": "ufen9jyZN7Kr"
      }
    },
    {
      "cell_type": "code",
      "metadata": {
        "id": "UPVeFK3a5i6d",
        "outputId": "07f09459-01df-4fd4-edbe-51814ba4ab1d",
        "colab": {
          "base_uri": "https://localhost:8080/"
        }
      },
      "source": [
        "# seu código\n",
        "from sklearn.model_selection import train_test_split\n",
        "from sklearn.linear_model import LogisticRegression\n",
        "import pandas as pd\n",
        "\n",
        "# URL do dataset\n",
        "url = 'https://archive.ics.uci.edu/ml/machine-learning-databases/auto-mpg/auto-mpg.data'\n",
        "# Definir nomes das colunas conforme a documentação do dataset\n",
        "column_names = [\"mpg\", \"cylinders\", \"displacement\", \"horsepower\", \"weight\",\n",
        "                \"acceleration\", \"model year\", \"origin\", \"car name\"]\n",
        "# Carregar o dataset corretamente\n",
        "df = pd.read_csv(url, sep='\\s+', names=column_names, na_values='?')\n",
        "\n",
        "print('\\n', df)\n",
        "\n",
        "print('\\n',df.isnull().sum()/len(df))\n",
        "print('\\nLinhas antes de dropna: ', len(df))\n",
        "df1=df.dropna()\n",
        "print('\\nLinhas depois de dropna: ', len(df1))\n",
        "\n",
        "unique_values = df1['origin'].unique()\n",
        "print(\"Valores únicos na coluna 'origin':\", unique_values)\n",
        "\n",
        "# em origin trocar 3 por 2 (usa = 1 e os demais sáo 2 e 3)\n",
        "df1['origin'] = df1['origin'].replace(3, 2)\n",
        "\n",
        "unique_values = df1['origin'].unique()\n",
        "print(\"Valores únicos na coluna 'origin':\", unique_values)\n",
        "\n",
        "print('quantidade de veiculos 1 - usa: ', sum(df1['origin'] == 1))\n",
        "print('quantidade de veiculos 2 - non-usa: ', sum(df1['origin'] == 2))\n",
        "\n",
        "print('\\n', df1)\n",
        "\n",
        "# separando variável dependente e independentes\n",
        "#x = df.drop('y',axis=1)\n",
        "#y = df['y']\n",
        "\n",
        "# ou conforme abaixo:\n",
        "#x=df.drop(columns=['origin'])\n",
        "#y=df.origin\n",
        "\n",
        "#ou abaixo para selecionar algumas colunas\n",
        "x=df1[['mpg', 'cylinders']]\n",
        "y=df1['origin']\n",
        "\n",
        "# separando conjuntos de treinamento e teste\n",
        "x_train, x_test, y_train, y_test = train_test_split(x, y, test_size=0.3, stratify=y, random_state=1)\n",
        "\n",
        "# selecionando o modelo\n",
        "clf = LogisticRegression()\n",
        "# treinando o modelo\n",
        "clf.fit(x_train,y_train)\n",
        "# utilizando o modelo\n",
        "y_pred = clf.predict(x_test)\n",
        "print('\\ny_pred: ',y_pred)\n",
        "\n",
        "#Coeficientes obtidos:\n",
        "print('n\\Coeficientes obtidos: ')\n",
        "print(clf.coef_, clf.intercept_)\n",
        "\n",
        "# verificando o resultado apenas na base de dados de teste\n",
        "print('\\nScore usando base de teste\\n')\n",
        "print( clf.score(x_test,y_test) )\n",
        "# ou abaixo que verifica em toda a base, inclusive de treinamento, não é indicado\n",
        "print('\\nScore usando toda a base\\n')\n",
        "print(clf.score(x,y))\n",
        "\n",
        "#predição com dados específicos:\n",
        "x_novo=pd.DataFrame({'mpg': [18.407], 'cylinders':[4]})\n",
        "y_pred_case=clf.predict(x_novo)\n",
        "\n",
        "print()\n",
        "print('x_novo: ',x_novo)\n",
        "print('y_pred: ',y_pred_case)\n",
        "\n",
        "\n",
        "mpg_min = x['mpg'].min()\n",
        "mpg_max = x['mpg'].max()\n",
        "cylinders_min = x['cylinders'].min()\n",
        "cylinders_max = x['cylinders'].max()\n",
        "\n",
        "# Criar DataFrame com combinações dos valores extremos\n",
        "extreme_values = pd.DataFrame({\n",
        "    'mpg': [mpg_min, mpg_max],\n",
        "    'cylinders': [cylinders_min, cylinders_max]\n",
        "})\n",
        "\n",
        "# Prever as classes para as combinações de valores extremos\n",
        "predictions = clf.predict(extreme_values)\n",
        "\n",
        "# Exibir os resultados\n",
        "print('Valores extremos:')\n",
        "print(extreme_values)\n",
        "print('Previsões:')\n",
        "print(predictions)\n",
        "\n",
        "# predição com todos os indicadores de homens em 0.75\n",
        "#x_novo=pd.DataFrame(df.drop(columns=['TenYearCHD']).groupby('male').quantile(0.75)).reset_index()\n",
        "#print('\\n',x_novo)\n",
        "#y_pred=classificacao.predict(x_novo)\n",
        "#print(y_pred)\n",
        "\n",
        "# predição com todos os indicadores de homens em 0.9\n",
        "#x_novo=pd.DataFrame(df.drop(columns=['TenYearCHD']).groupby('male').quantile(0.9)).reset_index()\n",
        "#print('\\n',x_novo)\n",
        "#y_pred=classificacao.predict(x_novo)\n",
        "#print(y_pred)\n",
        "\n",
        "print('\\n',df.isnull().sum()/len(df))\n",
        "print('\\nLinhas antes de dropna: ', len(df))\n",
        "df2=df.dropna()\n",
        "print('\\nLinhas depois de dropna: ', len(df2))\n",
        "\n",
        "# criar com todas as colunas menos car name\n",
        "x=df2.drop(columns=['origin', 'car name', 'model year'])\n",
        "y=df2.origin\n",
        "\n",
        "# separando conjuntos de treinamento e teste\n",
        "x_train, x_test, y_train, y_test = train_test_split(x, y, test_size=0.3, stratify=y, random_state=1)\n",
        "\n",
        "# selecionando o modelo\n",
        "clf = LogisticRegression()\n",
        "# treinando o modelo\n",
        "clf.fit(x_train,y_train)\n",
        "# utilizando o modelo\n",
        "y_pred = clf.predict(x_test)\n",
        "print('\\ny_pred: ',y_pred)\n",
        "\n",
        "#Coeficientes obtidos:\n",
        "print('n\\Coeficientes obtidos: ')\n",
        "print(clf.coef_, clf.intercept_)\n",
        "\n",
        "# verificando o resultado apenas na base de dados de teste\n",
        "print('\\nScore usando base de teste\\n')\n",
        "print( clf.score(x_test,y_test) )\n",
        "# ou abaixo que verifica em toda a base, inclusive de treinamento, não é indicado\n",
        "print('\\nScore usando toda a base\\n')\n",
        "print(clf.score(x,y))\n"
      ],
      "execution_count": 42,
      "outputs": [
        {
          "output_type": "stream",
          "name": "stdout",
          "text": [
            "\n",
            "       mpg  cylinders  displacement  horsepower  weight  acceleration  \\\n",
            "0    18.0          8         307.0       130.0  3504.0          12.0   \n",
            "1    15.0          8         350.0       165.0  3693.0          11.5   \n",
            "2    18.0          8         318.0       150.0  3436.0          11.0   \n",
            "3    16.0          8         304.0       150.0  3433.0          12.0   \n",
            "4    17.0          8         302.0       140.0  3449.0          10.5   \n",
            "..    ...        ...           ...         ...     ...           ...   \n",
            "393  27.0          4         140.0        86.0  2790.0          15.6   \n",
            "394  44.0          4          97.0        52.0  2130.0          24.6   \n",
            "395  32.0          4         135.0        84.0  2295.0          11.6   \n",
            "396  28.0          4         120.0        79.0  2625.0          18.6   \n",
            "397  31.0          4         119.0        82.0  2720.0          19.4   \n",
            "\n",
            "     model year  origin                   car name  \n",
            "0            70       1  chevrolet chevelle malibu  \n",
            "1            70       1          buick skylark 320  \n",
            "2            70       1         plymouth satellite  \n",
            "3            70       1              amc rebel sst  \n",
            "4            70       1                ford torino  \n",
            "..          ...     ...                        ...  \n",
            "393          82       1            ford mustang gl  \n",
            "394          82       2                  vw pickup  \n",
            "395          82       1              dodge rampage  \n",
            "396          82       1                ford ranger  \n",
            "397          82       1                 chevy s-10  \n",
            "\n",
            "[398 rows x 9 columns]\n",
            "\n",
            " mpg             0.000000\n",
            "cylinders       0.000000\n",
            "displacement    0.000000\n",
            "horsepower      0.015075\n",
            "weight          0.000000\n",
            "acceleration    0.000000\n",
            "model year      0.000000\n",
            "origin          0.000000\n",
            "car name        0.000000\n",
            "dtype: float64\n",
            "\n",
            "Linhas antes de dropna:  398\n",
            "\n",
            "Linhas depois de dropna:  392\n",
            "Valores únicos na coluna 'origin': [1 3 2]\n",
            "Valores únicos na coluna 'origin': [1 2]\n",
            "quantidade de veiculos 1 - usa:  245\n",
            "quantidade de veiculos 2 - non-usa:  147\n",
            "\n",
            "       mpg  cylinders  displacement  horsepower  weight  acceleration  \\\n",
            "0    18.0          8         307.0       130.0  3504.0          12.0   \n",
            "1    15.0          8         350.0       165.0  3693.0          11.5   \n",
            "2    18.0          8         318.0       150.0  3436.0          11.0   \n",
            "3    16.0          8         304.0       150.0  3433.0          12.0   \n",
            "4    17.0          8         302.0       140.0  3449.0          10.5   \n",
            "..    ...        ...           ...         ...     ...           ...   \n",
            "393  27.0          4         140.0        86.0  2790.0          15.6   \n",
            "394  44.0          4          97.0        52.0  2130.0          24.6   \n",
            "395  32.0          4         135.0        84.0  2295.0          11.6   \n",
            "396  28.0          4         120.0        79.0  2625.0          18.6   \n",
            "397  31.0          4         119.0        82.0  2720.0          19.4   \n",
            "\n",
            "     model year  origin                   car name  \n",
            "0            70       1  chevrolet chevelle malibu  \n",
            "1            70       1          buick skylark 320  \n",
            "2            70       1         plymouth satellite  \n",
            "3            70       1              amc rebel sst  \n",
            "4            70       1                ford torino  \n",
            "..          ...     ...                        ...  \n",
            "393          82       1            ford mustang gl  \n",
            "394          82       2                  vw pickup  \n",
            "395          82       1              dodge rampage  \n",
            "396          82       1                ford ranger  \n",
            "397          82       1                 chevy s-10  \n",
            "\n",
            "[392 rows x 9 columns]\n",
            "\n",
            "y_pred:  [1 1 1 2 2 2 1 2 2 2 1 2 1 1 2 1 1 1 2 1 1 2 1 2 2 1 2 1 1 1 1 2 2 1 1 2 2\n",
            " 2 2 2 2 2 2 1 2 2 1 1 2 2 2 2 1 1 1 1 2 2 1 2 2 2 2 1 1 2 2 2 1 2 1 1 2 1\n",
            " 1 2 1 2 1 2 1 1 1 1 1 1 1 1 1 2 1 1 1 1 1 1 2 1 1 2 2 1 2 2 2 1 1 2 2 1 2\n",
            " 1 2 2 1 1 2 1]\n",
            "n\\Coeficientes obtidos: \n",
            "[[ 0.05870694 -1.16786916]] [3.59083185]\n",
            "\n",
            "Score usando base de teste\n",
            "\n",
            "0.7966101694915254\n",
            "\n",
            "Score usando toda a base\n",
            "\n",
            "0.7882653061224489\n",
            "\n",
            "x_novo:        mpg  cylinders\n",
            "0  18.407          4\n",
            "y_pred:  [1]\n",
            "Valores extremos:\n",
            "    mpg  cylinders\n",
            "0   9.0          3\n",
            "1  46.6          8\n",
            "Previsões:\n",
            "[2 1]\n",
            "\n",
            " mpg             0.000000\n",
            "cylinders       0.000000\n",
            "displacement    0.000000\n",
            "horsepower      0.015075\n",
            "weight          0.000000\n",
            "acceleration    0.000000\n",
            "model year      0.000000\n",
            "origin          0.000000\n",
            "car name        0.000000\n",
            "dtype: float64\n",
            "\n",
            "Linhas antes de dropna:  398\n",
            "\n",
            "Linhas depois de dropna:  392\n",
            "\n",
            "y_pred:  [1 1 1 1 1 1 3 1 3 1 3 1 1 1 3 3 1 1 1 1 1 3 1 1 3 1 3 1 3 1 1 1 1 1 1 1 1\n",
            " 3 3 3 3 2 1 3 3 1 1 1 2 1 2 1 1 1 2 1 3 1 1 1 3 1 1 2 3 1 1 1 1 3 1 1 3 1\n",
            " 3 1 3 1 1 1 1 3 1 1 1 1 3 2 1 1 1 3 1 1 3 1 1 1 1 1 1 1 1 3 2 3 1 1 1 1 1\n",
            " 3 2 1 1 3 3 3]\n",
            "n\\Coeficientes obtidos: \n",
            "[[-0.02611504 -0.03192959  0.07152553 -0.02852037 -0.0023386   0.0413284 ]\n",
            " [-0.0105586   0.02645537 -0.04933214 -0.03154962  0.00397395 -0.07142994]\n",
            " [ 0.03667364  0.00547422 -0.02219339  0.06007    -0.00163535  0.03010154]] [ 9.47781051e-04  5.23409706e-05 -1.00012202e-03]\n",
            "\n",
            "Score usando base de teste\n",
            "\n",
            "0.788135593220339\n",
            "\n",
            "Score usando toda a base\n",
            "\n",
            "0.7653061224489796\n"
          ]
        },
        {
          "output_type": "stream",
          "name": "stderr",
          "text": [
            "<ipython-input-42-118897e50433>:25: SettingWithCopyWarning: \n",
            "A value is trying to be set on a copy of a slice from a DataFrame.\n",
            "Try using .loc[row_indexer,col_indexer] = value instead\n",
            "\n",
            "See the caveats in the documentation: https://pandas.pydata.org/pandas-docs/stable/user_guide/indexing.html#returning-a-view-versus-a-copy\n",
            "  df1['origin'] = df1['origin'].replace(3, 2)\n",
            "/usr/local/lib/python3.10/dist-packages/sklearn/linear_model/_logistic.py:460: ConvergenceWarning: lbfgs failed to converge (status=1):\n",
            "STOP: TOTAL NO. of ITERATIONS REACHED LIMIT.\n",
            "\n",
            "Increase the number of iterations (max_iter) or scale the data as shown in:\n",
            "    https://scikit-learn.org/stable/modules/preprocessing.html\n",
            "Please also refer to the documentation for alternative solver options:\n",
            "    https://scikit-learn.org/stable/modules/linear_model.html#logistic-regression\n",
            "  n_iter_i = _check_optimize_result(\n"
          ]
        }
      ]
    },
    {
      "cell_type": "markdown",
      "source": [
        "## Load data set"
      ],
      "metadata": {
        "id": "-xbHxSQ8Px1-"
      }
    },
    {
      "cell_type": "markdown",
      "source": [],
      "metadata": {
        "id": "5kPlOxabEkqs"
      }
    },
    {
      "cell_type": "code",
      "metadata": {
        "id": "S4n19clB0fvg",
        "colab": {
          "base_uri": "https://localhost:8080/",
          "height": 206
        },
        "outputId": "f671cc58-92e5-4ca8-8ce5-f04712f0fc2d"
      },
      "source": [
        "mpg = sns.load_dataset('mpg')\n",
        "mpg.head()"
      ],
      "execution_count": null,
      "outputs": [
        {
          "output_type": "execute_result",
          "data": {
            "text/plain": [
              "    mpg  cylinders  displacement  horsepower  weight  acceleration  \\\n",
              "0  18.0          8         307.0       130.0    3504          12.0   \n",
              "1  15.0          8         350.0       165.0    3693          11.5   \n",
              "2  18.0          8         318.0       150.0    3436          11.0   \n",
              "3  16.0          8         304.0       150.0    3433          12.0   \n",
              "4  17.0          8         302.0       140.0    3449          10.5   \n",
              "\n",
              "   model_year origin                       name  \n",
              "0          70    usa  chevrolet chevelle malibu  \n",
              "1          70    usa          buick skylark 320  \n",
              "2          70    usa         plymouth satellite  \n",
              "3          70    usa              amc rebel sst  \n",
              "4          70    usa                ford torino  "
            ],
            "text/html": [
              "\n",
              "  <div id=\"df-e68e0ec5-901c-400d-8cb1-a18d2cc0a7f7\">\n",
              "    <div class=\"colab-df-container\">\n",
              "      <div>\n",
              "<style scoped>\n",
              "    .dataframe tbody tr th:only-of-type {\n",
              "        vertical-align: middle;\n",
              "    }\n",
              "\n",
              "    .dataframe tbody tr th {\n",
              "        vertical-align: top;\n",
              "    }\n",
              "\n",
              "    .dataframe thead th {\n",
              "        text-align: right;\n",
              "    }\n",
              "</style>\n",
              "<table border=\"1\" class=\"dataframe\">\n",
              "  <thead>\n",
              "    <tr style=\"text-align: right;\">\n",
              "      <th></th>\n",
              "      <th>mpg</th>\n",
              "      <th>cylinders</th>\n",
              "      <th>displacement</th>\n",
              "      <th>horsepower</th>\n",
              "      <th>weight</th>\n",
              "      <th>acceleration</th>\n",
              "      <th>model_year</th>\n",
              "      <th>origin</th>\n",
              "      <th>name</th>\n",
              "    </tr>\n",
              "  </thead>\n",
              "  <tbody>\n",
              "    <tr>\n",
              "      <th>0</th>\n",
              "      <td>18.0</td>\n",
              "      <td>8</td>\n",
              "      <td>307.0</td>\n",
              "      <td>130.0</td>\n",
              "      <td>3504</td>\n",
              "      <td>12.0</td>\n",
              "      <td>70</td>\n",
              "      <td>usa</td>\n",
              "      <td>chevrolet chevelle malibu</td>\n",
              "    </tr>\n",
              "    <tr>\n",
              "      <th>1</th>\n",
              "      <td>15.0</td>\n",
              "      <td>8</td>\n",
              "      <td>350.0</td>\n",
              "      <td>165.0</td>\n",
              "      <td>3693</td>\n",
              "      <td>11.5</td>\n",
              "      <td>70</td>\n",
              "      <td>usa</td>\n",
              "      <td>buick skylark 320</td>\n",
              "    </tr>\n",
              "    <tr>\n",
              "      <th>2</th>\n",
              "      <td>18.0</td>\n",
              "      <td>8</td>\n",
              "      <td>318.0</td>\n",
              "      <td>150.0</td>\n",
              "      <td>3436</td>\n",
              "      <td>11.0</td>\n",
              "      <td>70</td>\n",
              "      <td>usa</td>\n",
              "      <td>plymouth satellite</td>\n",
              "    </tr>\n",
              "    <tr>\n",
              "      <th>3</th>\n",
              "      <td>16.0</td>\n",
              "      <td>8</td>\n",
              "      <td>304.0</td>\n",
              "      <td>150.0</td>\n",
              "      <td>3433</td>\n",
              "      <td>12.0</td>\n",
              "      <td>70</td>\n",
              "      <td>usa</td>\n",
              "      <td>amc rebel sst</td>\n",
              "    </tr>\n",
              "    <tr>\n",
              "      <th>4</th>\n",
              "      <td>17.0</td>\n",
              "      <td>8</td>\n",
              "      <td>302.0</td>\n",
              "      <td>140.0</td>\n",
              "      <td>3449</td>\n",
              "      <td>10.5</td>\n",
              "      <td>70</td>\n",
              "      <td>usa</td>\n",
              "      <td>ford torino</td>\n",
              "    </tr>\n",
              "  </tbody>\n",
              "</table>\n",
              "</div>\n",
              "      <button class=\"colab-df-convert\" onclick=\"convertToInteractive('df-e68e0ec5-901c-400d-8cb1-a18d2cc0a7f7')\"\n",
              "              title=\"Convert this dataframe to an interactive table.\"\n",
              "              style=\"display:none;\">\n",
              "        \n",
              "  <svg xmlns=\"http://www.w3.org/2000/svg\" height=\"24px\"viewBox=\"0 0 24 24\"\n",
              "       width=\"24px\">\n",
              "    <path d=\"M0 0h24v24H0V0z\" fill=\"none\"/>\n",
              "    <path d=\"M18.56 5.44l.94 2.06.94-2.06 2.06-.94-2.06-.94-.94-2.06-.94 2.06-2.06.94zm-11 1L8.5 8.5l.94-2.06 2.06-.94-2.06-.94L8.5 2.5l-.94 2.06-2.06.94zm10 10l.94 2.06.94-2.06 2.06-.94-2.06-.94-.94-2.06-.94 2.06-2.06.94z\"/><path d=\"M17.41 7.96l-1.37-1.37c-.4-.4-.92-.59-1.43-.59-.52 0-1.04.2-1.43.59L10.3 9.45l-7.72 7.72c-.78.78-.78 2.05 0 2.83L4 21.41c.39.39.9.59 1.41.59.51 0 1.02-.2 1.41-.59l7.78-7.78 2.81-2.81c.8-.78.8-2.07 0-2.86zM5.41 20L4 18.59l7.72-7.72 1.47 1.35L5.41 20z\"/>\n",
              "  </svg>\n",
              "      </button>\n",
              "      \n",
              "  <style>\n",
              "    .colab-df-container {\n",
              "      display:flex;\n",
              "      flex-wrap:wrap;\n",
              "      gap: 12px;\n",
              "    }\n",
              "\n",
              "    .colab-df-convert {\n",
              "      background-color: #E8F0FE;\n",
              "      border: none;\n",
              "      border-radius: 50%;\n",
              "      cursor: pointer;\n",
              "      display: none;\n",
              "      fill: #1967D2;\n",
              "      height: 32px;\n",
              "      padding: 0 0 0 0;\n",
              "      width: 32px;\n",
              "    }\n",
              "\n",
              "    .colab-df-convert:hover {\n",
              "      background-color: #E2EBFA;\n",
              "      box-shadow: 0px 1px 2px rgba(60, 64, 67, 0.3), 0px 1px 3px 1px rgba(60, 64, 67, 0.15);\n",
              "      fill: #174EA6;\n",
              "    }\n",
              "\n",
              "    [theme=dark] .colab-df-convert {\n",
              "      background-color: #3B4455;\n",
              "      fill: #D2E3FC;\n",
              "    }\n",
              "\n",
              "    [theme=dark] .colab-df-convert:hover {\n",
              "      background-color: #434B5C;\n",
              "      box-shadow: 0px 1px 3px 1px rgba(0, 0, 0, 0.15);\n",
              "      filter: drop-shadow(0px 1px 2px rgba(0, 0, 0, 0.3));\n",
              "      fill: #FFFFFF;\n",
              "    }\n",
              "  </style>\n",
              "\n",
              "      <script>\n",
              "        const buttonEl =\n",
              "          document.querySelector('#df-e68e0ec5-901c-400d-8cb1-a18d2cc0a7f7 button.colab-df-convert');\n",
              "        buttonEl.style.display =\n",
              "          google.colab.kernel.accessAllowed ? 'block' : 'none';\n",
              "\n",
              "        async function convertToInteractive(key) {\n",
              "          const element = document.querySelector('#df-e68e0ec5-901c-400d-8cb1-a18d2cc0a7f7');\n",
              "          const dataTable =\n",
              "            await google.colab.kernel.invokeFunction('convertToInteractive',\n",
              "                                                     [key], {});\n",
              "          if (!dataTable) return;\n",
              "\n",
              "          const docLinkHtml = 'Like what you see? Visit the ' +\n",
              "            '<a target=\"_blank\" href=https://colab.research.google.com/notebooks/data_table.ipynb>data table notebook</a>'\n",
              "            + ' to learn more about interactive tables.';\n",
              "          element.innerHTML = '';\n",
              "          dataTable['output_type'] = 'display_data';\n",
              "          await google.colab.output.renderOutput(dataTable, element);\n",
              "          const docLink = document.createElement('div');\n",
              "          docLink.innerHTML = docLinkHtml;\n",
              "          element.appendChild(docLink);\n",
              "        }\n",
              "      </script>\n",
              "    </div>\n",
              "  </div>\n",
              "  "
            ]
          },
          "metadata": {},
          "execution_count": 22
        }
      ]
    },
    {
      "cell_type": "markdown",
      "source": [],
      "metadata": {
        "id": "Vq294IxPEjQi"
      }
    },
    {
      "cell_type": "markdown",
      "source": [
        "# Exercício. Exclua os valores ausentes\n",
        "\n",
        "Valores ausentes não podem ser empregados no cálculo dos coeficientes da regressão logística, e são um problema para muitos outros modelos. Existem várias formas de se tratar dados ausentes. Aqui vamos, por simplicidade, simplesmente excluir as linhas com dados ausentes.\n",
        "\n",
        "> Qual atributo apresenta valores ausentes e quantas linhas foram excluídas dos dados?\n",
        "\n",
        "**Dica:** Empregue `df.isna().sum()` para identificar dados ausentes e `df.dropna()` para excluir as linhas.\n",
        "\n"
      ],
      "metadata": {
        "id": "A08qG6zaQi6t"
      }
    },
    {
      "cell_type": "code",
      "source": [
        "# seu código\n",
        "missing_values_X = X.isnull().sum()\n",
        "print(\"Valores ausentes por coluna em X:\\n\", missing_values_X)\n",
        "missing_values_y = y.isnull().sum()\n",
        "print(\"Valores ausentes por coluna em y:\\n\", missing_values_y)\n",
        "\n"
      ],
      "metadata": {
        "id": "B4CVYeZbQUVc",
        "outputId": "1c9d56b8-9296-4cf7-ff55-22cbecafd989",
        "colab": {
          "base_uri": "https://localhost:8080/"
        }
      },
      "execution_count": 43,
      "outputs": [
        {
          "output_type": "stream",
          "name": "stdout",
          "text": [
            "Valores ausentes por coluna em X:\n",
            " displacement    0\n",
            "cylinders       0\n",
            "horsepower      6\n",
            "weight          0\n",
            "acceleration    0\n",
            "model_year      0\n",
            "origin          0\n",
            "dtype: int64\n",
            "Valores ausentes por coluna em y:\n",
            " 0\n"
          ]
        }
      ]
    },
    {
      "cell_type": "code",
      "source": [
        "# Número de linhas antes da exclusão\n",
        "initial_shape_X = X.shape\n",
        "initial_shape_y = y.shape\n",
        "\n",
        "# Excluir linhas com valores ausentes\n",
        "X_cleaned = X.dropna()\n",
        "y_cleaned = y.dropna()\n",
        "# Número de linhas após a exclusão\n",
        "final_shape_X = X_cleaned.shape\n",
        "final_shape_y = y_cleaned.shape\n",
        "# Calcular o número de linhas excluídas\n",
        "rows_dropped_X = initial_shape_X[0] - final_shape_X[0]\n",
        "rows_dropped_y = initial_shape_y[0] - final_shape_y[0]\n",
        "\n",
        "print(f\"Número de linhas excluídas em X: {rows_dropped_X}\")\n",
        "print(f\"Número de linhas excluídas em y: {rows_dropped_y}\")\n"
      ],
      "metadata": {
        "id": "Xfb1cOSB0aba",
        "outputId": "5979f8c8-4b27-4189-c686-beb3aad95bb7",
        "colab": {
          "base_uri": "https://localhost:8080/"
        }
      },
      "execution_count": 44,
      "outputs": [
        {
          "output_type": "stream",
          "name": "stdout",
          "text": [
            "Número de linhas excluídas em X: 6\n",
            "Número de linhas excluídas em y: 0\n"
          ]
        }
      ]
    },
    {
      "cell_type": "markdown",
      "source": [
        "# Exercício. Altere os valores do campo `origin`\n",
        "\n",
        "A Regressão Logística é um classificador binário. Altere os valores do campo `origin`:"
      ],
      "metadata": {
        "id": "fMajp0a6SAqS"
      }
    },
    {
      "cell_type": "code",
      "metadata": {
        "id": "ca-1fpjAEhQG"
      },
      "source": [
        "# seu código"
      ],
      "execution_count": null,
      "outputs": []
    },
    {
      "cell_type": "markdown",
      "source": [
        "para os valores `usa` e `non-usa` para podermos classificar a origem dos veículos como sendo dos Estados Unidos ou não.\n",
        "\n",
        "> Quantos veículos `usa` e `non-usa` foram obtidos?\n",
        "\n",
        "**Dica:** Empregue `df.campo.replace('old','new')`"
      ],
      "metadata": {
        "id": "yN84HQeOSd62"
      }
    },
    {
      "cell_type": "code",
      "metadata": {
        "id": "m6Mj132ha8dJ",
        "outputId": "b3decf6b-52be-4ddf-8805-9adff19ac57d",
        "colab": {
          "base_uri": "https://localhost:8080/"
        }
      },
      "source": [
        "# seu código\n",
        "value_mapping = {1: 'usa', 2: 'non-usa', 3: 'other_category'}\n",
        "\n",
        "# Aplicar o mapeamento\n",
        "X['origin_mapped'] = X['origin'].map(value_mapping)\n",
        "\n",
        "# Verificar os valores únicos após o mapeamento\n",
        "unique_values_mapped = X['origin_mapped'].unique()\n",
        "print(\"Valores únicos na coluna 'origin_mapped':\", unique_values_mapped)\n",
        "\n",
        "# Contar os valores mapeados\n",
        "value_counts_mapped = X['origin_mapped'].value_counts()\n",
        "print(\"Contagem dos valores na coluna 'origin_mapped':\\n\", value_counts_mapped)\n",
        "\n"
      ],
      "execution_count": 36,
      "outputs": [
        {
          "output_type": "stream",
          "name": "stdout",
          "text": [
            "Valores únicos na coluna 'origin_mapped': ['usa' 'other_category' 'non-usa']\n",
            "Contagem dos valores na coluna 'origin_mapped':\n",
            " origin_mapped\n",
            "usa               249\n",
            "other_category     79\n",
            "non-usa            70\n",
            "Name: count, dtype: int64\n"
          ]
        },
        {
          "output_type": "stream",
          "name": "stderr",
          "text": [
            "<ipython-input-36-4d2c2b0e1bfc>:5: SettingWithCopyWarning: \n",
            "A value is trying to be set on a copy of a slice from a DataFrame.\n",
            "Try using .loc[row_indexer,col_indexer] = value instead\n",
            "\n",
            "See the caveats in the documentation: https://pandas.pydata.org/pandas-docs/stable/user_guide/indexing.html#returning-a-view-versus-a-copy\n",
            "  X['origin_mapped'] = X['origin'].map(value_mapping)\n"
          ]
        }
      ]
    },
    {
      "cell_type": "markdown",
      "source": [
        "# Exercício. Classifique a `origin` dos veículos a partir dos valores de `mpg` e `cylinders`\n",
        "\n",
        "Empregue o modelo de Regressão Logística para classificar a `origin` dos veículos a partir somente dos valores de `mpg` e `cylinders`.\n",
        "\n",
        "Empregue $30$% para dados de teste, estratificados pelo atributo de classe e a semente de geração aleatória (`random_state=1`).\n",
        "\n",
        "> Qual a acuracidade (*score*) obtido pelo modelo?\n",
        "\n",
        "**Dica:** *Muito Cuidado*. Se você não empregar exatamente as configurações acima você vai criar conjuntos de treinamento e testes diferentes e não vai chegar às respostas que encontra nos testes!"
      ],
      "metadata": {
        "id": "AIKiwRtxT114"
      }
    },
    {
      "cell_type": "code",
      "metadata": {
        "id": "570uz7Mk26jy",
        "outputId": "fc5e2c36-3087-4a8f-fa0a-8cb93ad11842",
        "colab": {
          "base_uri": "https://localhost:8080/",
          "height": 547
        }
      },
      "source": [
        "# seu código\n",
        "# Assumindo que 'X' tem as colunas 'mpg' e 'cylinders' e 'y' é a variável alvo\n",
        "# Certifique-se de que a variável alvo está corretamente alinhada com X\n",
        "# Por exemplo, se 'y' for um DataFrame com uma coluna chamada 'target'\n",
        "if isinstance(y, pd.DataFrame):\n",
        "    y = y['target']\n",
        "\n",
        "# Selecionar características e variável alvo\n",
        "X = X[['mpg', 'cylinders']]\n",
        "y = y\n",
        "\n",
        "# Dividir os dados em conjunto de treino e teste\n",
        "X_train, X_test, y_train, y_test = train_test_split(X, y, test_size=0.3, random_state=42)\n",
        "\n",
        "# Criar e treinar o modelo\n",
        "model = LogisticRegression(max_iter=1000)  # Aumentar max_iter se necessário para convergência\n",
        "model.fit(X_train, y_train)\n",
        "\n",
        "# Fazer previsões no conjunto de teste\n",
        "y_pred = model.predict(X_test)\n",
        "\n",
        "# Calcular a acurácia\n",
        "accuracy = accuracy_score(y_test, y_pred)\n",
        "print(f\"Acurácia (score) do modelo com entradas 'mpg' e 'cylinders': {accuracy:.2f}\")"
      ],
      "execution_count": 41,
      "outputs": [
        {
          "output_type": "error",
          "ename": "KeyError",
          "evalue": "'target'",
          "traceback": [
            "\u001b[0;31m---------------------------------------------------------------------------\u001b[0m",
            "\u001b[0;31mKeyError\u001b[0m                                  Traceback (most recent call last)",
            "\u001b[0;32m/usr/local/lib/python3.10/dist-packages/pandas/core/indexes/base.py\u001b[0m in \u001b[0;36mget_loc\u001b[0;34m(self, key)\u001b[0m\n\u001b[1;32m   3790\u001b[0m         \u001b[0;32mtry\u001b[0m\u001b[0;34m:\u001b[0m\u001b[0;34m\u001b[0m\u001b[0;34m\u001b[0m\u001b[0m\n\u001b[0;32m-> 3791\u001b[0;31m             \u001b[0;32mreturn\u001b[0m \u001b[0mself\u001b[0m\u001b[0;34m.\u001b[0m\u001b[0m_engine\u001b[0m\u001b[0;34m.\u001b[0m\u001b[0mget_loc\u001b[0m\u001b[0;34m(\u001b[0m\u001b[0mcasted_key\u001b[0m\u001b[0;34m)\u001b[0m\u001b[0;34m\u001b[0m\u001b[0;34m\u001b[0m\u001b[0m\n\u001b[0m\u001b[1;32m   3792\u001b[0m         \u001b[0;32mexcept\u001b[0m \u001b[0mKeyError\u001b[0m \u001b[0;32mas\u001b[0m \u001b[0merr\u001b[0m\u001b[0;34m:\u001b[0m\u001b[0;34m\u001b[0m\u001b[0;34m\u001b[0m\u001b[0m\n",
            "\u001b[0;32mindex.pyx\u001b[0m in \u001b[0;36mpandas._libs.index.IndexEngine.get_loc\u001b[0;34m()\u001b[0m\n",
            "\u001b[0;32mindex.pyx\u001b[0m in \u001b[0;36mpandas._libs.index.IndexEngine.get_loc\u001b[0;34m()\u001b[0m\n",
            "\u001b[0;32mpandas/_libs/hashtable_class_helper.pxi\u001b[0m in \u001b[0;36mpandas._libs.hashtable.PyObjectHashTable.get_item\u001b[0;34m()\u001b[0m\n",
            "\u001b[0;32mpandas/_libs/hashtable_class_helper.pxi\u001b[0m in \u001b[0;36mpandas._libs.hashtable.PyObjectHashTable.get_item\u001b[0;34m()\u001b[0m\n",
            "\u001b[0;31mKeyError\u001b[0m: 'target'",
            "\nThe above exception was the direct cause of the following exception:\n",
            "\u001b[0;31mKeyError\u001b[0m                                  Traceback (most recent call last)",
            "\u001b[0;32m<ipython-input-41-9de0469b61ab>\u001b[0m in \u001b[0;36m<cell line: 5>\u001b[0;34m()\u001b[0m\n\u001b[1;32m      4\u001b[0m \u001b[0;31m# Por exemplo, se 'y' for um DataFrame com uma coluna chamada 'target'\u001b[0m\u001b[0;34m\u001b[0m\u001b[0;34m\u001b[0m\u001b[0m\n\u001b[1;32m      5\u001b[0m \u001b[0;32mif\u001b[0m \u001b[0misinstance\u001b[0m\u001b[0;34m(\u001b[0m\u001b[0my\u001b[0m\u001b[0;34m,\u001b[0m \u001b[0mpd\u001b[0m\u001b[0;34m.\u001b[0m\u001b[0mDataFrame\u001b[0m\u001b[0;34m)\u001b[0m\u001b[0;34m:\u001b[0m\u001b[0;34m\u001b[0m\u001b[0;34m\u001b[0m\u001b[0m\n\u001b[0;32m----> 6\u001b[0;31m     \u001b[0my\u001b[0m \u001b[0;34m=\u001b[0m \u001b[0my\u001b[0m\u001b[0;34m[\u001b[0m\u001b[0;34m'target'\u001b[0m\u001b[0;34m]\u001b[0m\u001b[0;34m\u001b[0m\u001b[0;34m\u001b[0m\u001b[0m\n\u001b[0m\u001b[1;32m      7\u001b[0m \u001b[0;34m\u001b[0m\u001b[0m\n\u001b[1;32m      8\u001b[0m \u001b[0;31m# Selecionar características e variável alvo\u001b[0m\u001b[0;34m\u001b[0m\u001b[0;34m\u001b[0m\u001b[0m\n",
            "\u001b[0;32m/usr/local/lib/python3.10/dist-packages/pandas/core/frame.py\u001b[0m in \u001b[0;36m__getitem__\u001b[0;34m(self, key)\u001b[0m\n\u001b[1;32m   3891\u001b[0m             \u001b[0;32mif\u001b[0m \u001b[0mself\u001b[0m\u001b[0;34m.\u001b[0m\u001b[0mcolumns\u001b[0m\u001b[0;34m.\u001b[0m\u001b[0mnlevels\u001b[0m \u001b[0;34m>\u001b[0m \u001b[0;36m1\u001b[0m\u001b[0;34m:\u001b[0m\u001b[0;34m\u001b[0m\u001b[0;34m\u001b[0m\u001b[0m\n\u001b[1;32m   3892\u001b[0m                 \u001b[0;32mreturn\u001b[0m \u001b[0mself\u001b[0m\u001b[0;34m.\u001b[0m\u001b[0m_getitem_multilevel\u001b[0m\u001b[0;34m(\u001b[0m\u001b[0mkey\u001b[0m\u001b[0;34m)\u001b[0m\u001b[0;34m\u001b[0m\u001b[0;34m\u001b[0m\u001b[0m\n\u001b[0;32m-> 3893\u001b[0;31m             \u001b[0mindexer\u001b[0m \u001b[0;34m=\u001b[0m \u001b[0mself\u001b[0m\u001b[0;34m.\u001b[0m\u001b[0mcolumns\u001b[0m\u001b[0;34m.\u001b[0m\u001b[0mget_loc\u001b[0m\u001b[0;34m(\u001b[0m\u001b[0mkey\u001b[0m\u001b[0;34m)\u001b[0m\u001b[0;34m\u001b[0m\u001b[0;34m\u001b[0m\u001b[0m\n\u001b[0m\u001b[1;32m   3894\u001b[0m             \u001b[0;32mif\u001b[0m \u001b[0mis_integer\u001b[0m\u001b[0;34m(\u001b[0m\u001b[0mindexer\u001b[0m\u001b[0;34m)\u001b[0m\u001b[0;34m:\u001b[0m\u001b[0;34m\u001b[0m\u001b[0;34m\u001b[0m\u001b[0m\n\u001b[1;32m   3895\u001b[0m                 \u001b[0mindexer\u001b[0m \u001b[0;34m=\u001b[0m \u001b[0;34m[\u001b[0m\u001b[0mindexer\u001b[0m\u001b[0;34m]\u001b[0m\u001b[0;34m\u001b[0m\u001b[0;34m\u001b[0m\u001b[0m\n",
            "\u001b[0;32m/usr/local/lib/python3.10/dist-packages/pandas/core/indexes/base.py\u001b[0m in \u001b[0;36mget_loc\u001b[0;34m(self, key)\u001b[0m\n\u001b[1;32m   3796\u001b[0m             ):\n\u001b[1;32m   3797\u001b[0m                 \u001b[0;32mraise\u001b[0m \u001b[0mInvalidIndexError\u001b[0m\u001b[0;34m(\u001b[0m\u001b[0mkey\u001b[0m\u001b[0;34m)\u001b[0m\u001b[0;34m\u001b[0m\u001b[0;34m\u001b[0m\u001b[0m\n\u001b[0;32m-> 3798\u001b[0;31m             \u001b[0;32mraise\u001b[0m \u001b[0mKeyError\u001b[0m\u001b[0;34m(\u001b[0m\u001b[0mkey\u001b[0m\u001b[0;34m)\u001b[0m \u001b[0;32mfrom\u001b[0m \u001b[0merr\u001b[0m\u001b[0;34m\u001b[0m\u001b[0;34m\u001b[0m\u001b[0m\n\u001b[0m\u001b[1;32m   3799\u001b[0m         \u001b[0;32mexcept\u001b[0m \u001b[0mTypeError\u001b[0m\u001b[0;34m:\u001b[0m\u001b[0;34m\u001b[0m\u001b[0;34m\u001b[0m\u001b[0m\n\u001b[1;32m   3800\u001b[0m             \u001b[0;31m# If we have a listlike key, _check_indexing_error will raise\u001b[0m\u001b[0;34m\u001b[0m\u001b[0;34m\u001b[0m\u001b[0m\n",
            "\u001b[0;31mKeyError\u001b[0m: 'target'"
          ]
        }
      ]
    },
    {
      "cell_type": "markdown",
      "source": [
        "# Exercício. Classifique os veículos com valores `mpg` e `cylinders` igual aos valores máximos e mínimos dos dados\n",
        "\n",
        "Você não vai ter nenhuma surpresa aqui com o resultado :-)\n",
        "\n",
        "> Qual o resultado da classificação?\n",
        "\n",
        "**Dica:** Crie um dataframe exatamente com esses atributos e os valores minímo e máximos encontrados no dataframe original para sua entrada no `predict()`.\n"
      ],
      "metadata": {
        "id": "NevXaFi5VFLB"
      }
    },
    {
      "cell_type": "code",
      "source": [
        "# seu código\n"
      ],
      "metadata": {
        "id": "7vRGQx-9VjSN"
      },
      "execution_count": null,
      "outputs": []
    },
    {
      "cell_type": "markdown",
      "source": [
        "# Exercício. Classifique a `origin` dos veículos a partir de todos os preditores válidos\n",
        "\n",
        "Empregue agora o modelo de Regressão Logística para classificar a `origin` dos veículos a partir de todos os preditores válidos\n",
        "\n",
        "Empregue $30$% para dados de teste, estratificados pelo atributo de classe e a semente de geração aleatória (`random_state=1`).\n",
        "\n",
        "> Qual a acuracidade (*score*) obtido pelo modelo?\n",
        "\n",
        "**Dica:** *Muito Cuidado*. Se você não empregar exatamente as configurações acima você vai criar conjuntos de treinamento e testes diferentes e não vai chegar às respostas que encontra nos testes!\n",
        "\n",
        "**Dica:** Existe um atributo que não faz sentido ser empregado como preditor e precisa ser excluído das variáveis de entrada. Qual?"
      ],
      "metadata": {
        "id": "OkKRssUpXK4t"
      }
    },
    {
      "cell_type": "code",
      "metadata": {
        "id": "WG8usyodXHrP"
      },
      "source": [
        "# seu código\n"
      ],
      "execution_count": null,
      "outputs": []
    }
  ]
}